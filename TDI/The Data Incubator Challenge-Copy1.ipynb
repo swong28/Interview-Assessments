{
 "cells": [
  {
   "cell_type": "code",
   "execution_count": 1,
   "metadata": {},
   "outputs": [],
   "source": [
    "import pandas as pd\n",
    "import numpy as np\n",
    "import matplotlib.pyplot as plt\n",
    "\n",
    "%matplotlib inline\n",
    "import seaborn as sns\n",
    "\n",
    "from datetime import datetime\n",
    "from scipy.stats import linregress, chisquare\n",
    "from sklearn.linear_model import LinearRegression"
   ]
  },
  {
   "cell_type": "markdown",
   "metadata": {},
   "source": [
    "# The Data Incubator Challenge\n",
    "\n",
    "### Section 1\n",
    "The New York City Fire Department keeps a log of detailed information on incidents handled by FDNY units. In this challenge we will work with a dataset that contains a record of incidents handled by FDNY units from 2013-2017."
   ]
  },
  {
   "cell_type": "code",
   "execution_count": 2,
   "metadata": {},
   "outputs": [],
   "source": [
    "fire_df = pd.read_csv('Incidents_Responded_to_by_Fire_Companies.csv', \n",
    "                      encoding='utf-8', \n",
    "                      engine='python')"
   ]
  },
  {
   "cell_type": "code",
   "execution_count": 3,
   "metadata": {},
   "outputs": [
    {
     "data": {
      "text/html": [
       "<div>\n",
       "<style scoped>\n",
       "    .dataframe tbody tr th:only-of-type {\n",
       "        vertical-align: middle;\n",
       "    }\n",
       "\n",
       "    .dataframe tbody tr th {\n",
       "        vertical-align: top;\n",
       "    }\n",
       "\n",
       "    .dataframe thead th {\n",
       "        text-align: right;\n",
       "    }\n",
       "</style>\n",
       "<table border=\"1\" class=\"dataframe\">\n",
       "  <thead>\n",
       "    <tr style=\"text-align: right;\">\n",
       "      <th></th>\n",
       "      <th>IM_INCIDENT_KEY</th>\n",
       "      <th>FIRE_BOX</th>\n",
       "      <th>INCIDENT_TYPE_DESC</th>\n",
       "      <th>INCIDENT_DATE_TIME</th>\n",
       "      <th>ARRIVAL_DATE_TIME</th>\n",
       "      <th>UNITS_ONSCENE</th>\n",
       "      <th>LAST_UNIT_CLEARED_DATE_TIME</th>\n",
       "      <th>HIGHEST_LEVEL_DESC</th>\n",
       "      <th>TOTAL_INCIDENT_DURATION</th>\n",
       "      <th>ACTION_TAKEN1_DESC</th>\n",
       "      <th>...</th>\n",
       "      <th>ZIP_CODE</th>\n",
       "      <th>BOROUGH_DESC</th>\n",
       "      <th>FLOOR</th>\n",
       "      <th>CO_DETECTOR_PRESENT_DESC</th>\n",
       "      <th>FIRE_ORIGIN_BELOW_GRADE_FLAG</th>\n",
       "      <th>STORY_FIRE_ORIGIN_COUNT</th>\n",
       "      <th>FIRE_SPREAD_DESC</th>\n",
       "      <th>DETECTOR_PRESENCE_DESC</th>\n",
       "      <th>AES_PRESENCE_DESC</th>\n",
       "      <th>STANDPIPE_SYS_PRESENT_FLAG</th>\n",
       "    </tr>\n",
       "  </thead>\n",
       "  <tbody>\n",
       "    <tr>\n",
       "      <th>0</th>\n",
       "      <td>55672688</td>\n",
       "      <td>2147</td>\n",
       "      <td>300 - Rescue, EMS incident, other</td>\n",
       "      <td>01/01/2013 12:00:20 AM</td>\n",
       "      <td>01/01/2013 12:14:23 AM</td>\n",
       "      <td>1.0</td>\n",
       "      <td>01/01/2013 12:20:06 AM</td>\n",
       "      <td>1 - More than initial alarm, less than Signal 7-5</td>\n",
       "      <td>1186.0</td>\n",
       "      <td>00 - Action taken, other</td>\n",
       "      <td>...</td>\n",
       "      <td>10454</td>\n",
       "      <td>2 - Bronx</td>\n",
       "      <td>NaN</td>\n",
       "      <td>NaN</td>\n",
       "      <td>NaN</td>\n",
       "      <td>NaN</td>\n",
       "      <td>NaN</td>\n",
       "      <td>NaN</td>\n",
       "      <td>NaN</td>\n",
       "      <td>NaN</td>\n",
       "    </tr>\n",
       "    <tr>\n",
       "      <th>1</th>\n",
       "      <td>55672692</td>\n",
       "      <td>0818</td>\n",
       "      <td>735A - Unwarranted alarm/defective condition o...</td>\n",
       "      <td>01/01/2013 12:00:37 AM</td>\n",
       "      <td>01/01/2013 12:09:03 AM</td>\n",
       "      <td>3.0</td>\n",
       "      <td>01/01/2013 12:30:06 AM</td>\n",
       "      <td>1 - More than initial alarm, less than Signal 7-5</td>\n",
       "      <td>1769.0</td>\n",
       "      <td>86 - Investigate</td>\n",
       "      <td>...</td>\n",
       "      <td>10036</td>\n",
       "      <td>1 - Manhattan</td>\n",
       "      <td>NaN</td>\n",
       "      <td>NaN</td>\n",
       "      <td>NaN</td>\n",
       "      <td>NaN</td>\n",
       "      <td>NaN</td>\n",
       "      <td>NaN</td>\n",
       "      <td>NaN</td>\n",
       "      <td>NaN</td>\n",
       "    </tr>\n",
       "    <tr>\n",
       "      <th>2</th>\n",
       "      <td>55672693</td>\n",
       "      <td>9656</td>\n",
       "      <td>300 - Rescue, EMS incident, other</td>\n",
       "      <td>01/01/2013 12:01:17 AM</td>\n",
       "      <td>01/01/2013 12:04:55 AM</td>\n",
       "      <td>1.0</td>\n",
       "      <td>01/01/2013 12:15:18 AM</td>\n",
       "      <td>1 - More than initial alarm, less than Signal 7-5</td>\n",
       "      <td>841.0</td>\n",
       "      <td>00 - Action taken, other</td>\n",
       "      <td>...</td>\n",
       "      <td>11418</td>\n",
       "      <td>5 - Queens</td>\n",
       "      <td>NaN</td>\n",
       "      <td>NaN</td>\n",
       "      <td>NaN</td>\n",
       "      <td>NaN</td>\n",
       "      <td>NaN</td>\n",
       "      <td>NaN</td>\n",
       "      <td>NaN</td>\n",
       "      <td>NaN</td>\n",
       "    </tr>\n",
       "    <tr>\n",
       "      <th>3</th>\n",
       "      <td>55672695</td>\n",
       "      <td>7412</td>\n",
       "      <td>412 - Gas leak (natural gas or LPG)</td>\n",
       "      <td>01/01/2013 12:02:32 AM</td>\n",
       "      <td>01/01/2013 12:07:48 AM</td>\n",
       "      <td>4.0</td>\n",
       "      <td>01/01/2013 12:40:11 AM</td>\n",
       "      <td>1 - More than initial alarm, less than Signal 7-5</td>\n",
       "      <td>2259.0</td>\n",
       "      <td>44 - Hazardous materials leak control &amp; contai...</td>\n",
       "      <td>...</td>\n",
       "      <td>11103</td>\n",
       "      <td>5 - Queens</td>\n",
       "      <td>1</td>\n",
       "      <td>NaN</td>\n",
       "      <td>NaN</td>\n",
       "      <td>NaN</td>\n",
       "      <td>NaN</td>\n",
       "      <td>NaN</td>\n",
       "      <td>NaN</td>\n",
       "      <td>NaN</td>\n",
       "    </tr>\n",
       "    <tr>\n",
       "      <th>4</th>\n",
       "      <td>55672697</td>\n",
       "      <td>4019</td>\n",
       "      <td>735A - Unwarranted alarm/defective condition o...</td>\n",
       "      <td>01/01/2013 12:01:49 AM</td>\n",
       "      <td>01/01/2013 12:06:27 AM</td>\n",
       "      <td>6.0</td>\n",
       "      <td>01/01/2013 12:24:56 AM</td>\n",
       "      <td>1 - More than initial alarm, less than Signal 7-5</td>\n",
       "      <td>1387.0</td>\n",
       "      <td>86 - Investigate</td>\n",
       "      <td>...</td>\n",
       "      <td>11385</td>\n",
       "      <td>5 - Queens</td>\n",
       "      <td>NaN</td>\n",
       "      <td>NaN</td>\n",
       "      <td>NaN</td>\n",
       "      <td>NaN</td>\n",
       "      <td>NaN</td>\n",
       "      <td>NaN</td>\n",
       "      <td>NaN</td>\n",
       "      <td>NaN</td>\n",
       "    </tr>\n",
       "  </tbody>\n",
       "</table>\n",
       "<p>5 rows × 24 columns</p>\n",
       "</div>"
      ],
      "text/plain": [
       "   IM_INCIDENT_KEY FIRE_BOX  \\\n",
       "0         55672688     2147   \n",
       "1         55672692     0818   \n",
       "2         55672693     9656   \n",
       "3         55672695     7412   \n",
       "4         55672697     4019   \n",
       "\n",
       "                                  INCIDENT_TYPE_DESC      INCIDENT_DATE_TIME  \\\n",
       "0                  300 - Rescue, EMS incident, other  01/01/2013 12:00:20 AM   \n",
       "1  735A - Unwarranted alarm/defective condition o...  01/01/2013 12:00:37 AM   \n",
       "2                  300 - Rescue, EMS incident, other  01/01/2013 12:01:17 AM   \n",
       "3                412 - Gas leak (natural gas or LPG)  01/01/2013 12:02:32 AM   \n",
       "4  735A - Unwarranted alarm/defective condition o...  01/01/2013 12:01:49 AM   \n",
       "\n",
       "        ARRIVAL_DATE_TIME  UNITS_ONSCENE LAST_UNIT_CLEARED_DATE_TIME  \\\n",
       "0  01/01/2013 12:14:23 AM            1.0      01/01/2013 12:20:06 AM   \n",
       "1  01/01/2013 12:09:03 AM            3.0      01/01/2013 12:30:06 AM   \n",
       "2  01/01/2013 12:04:55 AM            1.0      01/01/2013 12:15:18 AM   \n",
       "3  01/01/2013 12:07:48 AM            4.0      01/01/2013 12:40:11 AM   \n",
       "4  01/01/2013 12:06:27 AM            6.0      01/01/2013 12:24:56 AM   \n",
       "\n",
       "                                  HIGHEST_LEVEL_DESC  TOTAL_INCIDENT_DURATION  \\\n",
       "0  1 - More than initial alarm, less than Signal 7-5                   1186.0   \n",
       "1  1 - More than initial alarm, less than Signal 7-5                   1769.0   \n",
       "2  1 - More than initial alarm, less than Signal 7-5                    841.0   \n",
       "3  1 - More than initial alarm, less than Signal 7-5                   2259.0   \n",
       "4  1 - More than initial alarm, less than Signal 7-5                   1387.0   \n",
       "\n",
       "                                  ACTION_TAKEN1_DESC  \\\n",
       "0                           00 - Action taken, other   \n",
       "1                                   86 - Investigate   \n",
       "2                           00 - Action taken, other   \n",
       "3  44 - Hazardous materials leak control & contai...   \n",
       "4                                   86 - Investigate   \n",
       "\n",
       "              ...             ZIP_CODE   BOROUGH_DESC FLOOR  \\\n",
       "0             ...                10454      2 - Bronx   NaN   \n",
       "1             ...                10036  1 - Manhattan   NaN   \n",
       "2             ...                11418     5 - Queens   NaN   \n",
       "3             ...                11103     5 - Queens     1   \n",
       "4             ...                11385     5 - Queens   NaN   \n",
       "\n",
       "  CO_DETECTOR_PRESENT_DESC FIRE_ORIGIN_BELOW_GRADE_FLAG  \\\n",
       "0                      NaN                          NaN   \n",
       "1                      NaN                          NaN   \n",
       "2                      NaN                          NaN   \n",
       "3                      NaN                          NaN   \n",
       "4                      NaN                          NaN   \n",
       "\n",
       "  STORY_FIRE_ORIGIN_COUNT FIRE_SPREAD_DESC DETECTOR_PRESENCE_DESC  \\\n",
       "0                     NaN              NaN                    NaN   \n",
       "1                     NaN              NaN                    NaN   \n",
       "2                     NaN              NaN                    NaN   \n",
       "3                     NaN              NaN                    NaN   \n",
       "4                     NaN              NaN                    NaN   \n",
       "\n",
       "   AES_PRESENCE_DESC  STANDPIPE_SYS_PRESENT_FLAG  \n",
       "0                NaN                         NaN  \n",
       "1                NaN                         NaN  \n",
       "2                NaN                         NaN  \n",
       "3                NaN                         NaN  \n",
       "4                NaN                         NaN  \n",
       "\n",
       "[5 rows x 24 columns]"
      ]
     },
     "execution_count": 3,
     "metadata": {},
     "output_type": "execute_result"
    }
   ],
   "source": [
    "fire_df.head()"
   ]
  },
  {
   "cell_type": "markdown",
   "metadata": {},
   "source": [
    "1. What proportion of FDNY responses in this dataset correspond to the most common type of incident?"
   ]
  },
  {
   "cell_type": "code",
   "execution_count": 4,
   "metadata": {},
   "outputs": [
    {
     "name": "stdout",
     "output_type": "stream",
     "text": [
      "The proportion of most common incident is  0.3614828304238471\n"
     ]
    }
   ],
   "source": [
    "inc_count = fire_df.groupby(['INCIDENT_TYPE_DESC']).INCIDENT_TYPE_DESC.count()\n",
    "\n",
    "proportion = inc_count.max() / inc_count.sum()\n",
    "print('The proportion of most common incident is ', proportion)"
   ]
  },
  {
   "cell_type": "markdown",
   "metadata": {},
   "source": [
    "2. What is the ratio of the average number of units that arrive to a scene of an incident classified as '111 - Building fire' to the number that arrive for '651 - Smoke scare, odor of smoke'?"
   ]
  },
  {
   "cell_type": "code",
   "execution_count": 5,
   "metadata": {},
   "outputs": [
    {
     "name": "stdout",
     "output_type": "stream",
     "text": [
      "The ratio is:  2.7597595139775324\n"
     ]
    }
   ],
   "source": [
    "# Building Fire Incident\n",
    "building_fire = fire_df[fire_df['INCIDENT_TYPE_DESC'] == '111 - Building fire']\n",
    "building_fire.UNITS_ONSCENE.mean()\n",
    "\n",
    "# Smoke Incident\n",
    "smoke = fire_df[fire_df['INCIDENT_TYPE_DESC'] == '651 - Smoke scare, odor of smoke']\n",
    "\n",
    "avg = building_fire.UNITS_ONSCENE.mean() / smoke.UNITS_ONSCENE.mean()\n",
    "\n",
    "print(\"The ratio is: \", avg)"
   ]
  },
  {
   "cell_type": "markdown",
   "metadata": {},
   "source": [
    "3. How many times more likely is an incident in Staten Island a false call compared to in Manhattan? The answer should be the ratio of Staten Island false call rate to Manhattan false call rate. A false call is an incident for which 'INCIDENT_TYPE_DESC' is '710 - Malicious, mischievous false call, other'."
   ]
  },
  {
   "cell_type": "code",
   "execution_count": 6,
   "metadata": {},
   "outputs": [
    {
     "data": {
      "text/plain": [
       "array(['2 - Bronx', '1 - Manhattan', '5 - Queens', '4 - Brooklyn',\n",
       "       '3 - Staten Island'], dtype=object)"
      ]
     },
     "execution_count": 6,
     "metadata": {},
     "output_type": "execute_result"
    }
   ],
   "source": [
    "# See the Categories in 'BOROUGH_DESC'\n",
    "fire_df.BOROUGH_DESC.unique()"
   ]
  },
  {
   "cell_type": "code",
   "execution_count": 7,
   "metadata": {},
   "outputs": [
    {
     "name": "stdout",
     "output_type": "stream",
     "text": [
      "The ratio is:  1.6243819471953407\n"
     ]
    }
   ],
   "source": [
    "# '1 - Manhattan'\n",
    "manhattan = fire_df[fire_df.BOROUGH_DESC == '1 - Manhattan']\n",
    "manhattan_ratio = (sum(manhattan.INCIDENT_TYPE_DESC \n",
    "                       == '710 - Malicious, mischievous false call, other') \n",
    "                   / manhattan.INCIDENT_TYPE_DESC.count())\n",
    "\n",
    "# '3 - Staten Island'\n",
    "staten_island = fire_df[fire_df.BOROUGH_DESC == '3 - Staten Island']\n",
    "staten_island_ratio = (sum(staten_island.INCIDENT_TYPE_DESC \n",
    "                       == '710 - Malicious, mischievous false call, other') \n",
    "                   / staten_island.INCIDENT_TYPE_DESC.count())\n",
    "\n",
    "inc_ratio = staten_island_ratio / manhattan_ratio\n",
    "\n",
    "print(\"The ratio is: \", inc_ratio)"
   ]
  },
  {
   "cell_type": "markdown",
   "metadata": {},
   "source": [
    "4. Check the distribution of the number of minutes it takes between the time a '111 - Building fire' incident has been logged into the Computer Aided Dispatch system and the time at which the first unit arrives on scene. What is the third quartile of that distribution. Note: the number of minutes can be fractional (ie, do not round)."
   ]
  },
  {
   "cell_type": "code",
   "execution_count": 8,
   "metadata": {},
   "outputs": [
    {
     "data": {
      "image/png": "[encoded data removed]",
      "text/plain": [
       "<Figure size 432x288 with 1 Axes>"
      ]
     },
     "metadata": {
      "needs_background": "light"
     },
     "output_type": "display_data"
    }
   ],
   "source": [
    "# Building Fire\n",
    "building_fire = (fire_df[fire_df['INCIDENT_TYPE_DESC'] == '111 - Building fire'].dropna(\n",
    "    subset=['INCIDENT_DATE_TIME', 'ARRIVAL_DATE_TIME']))\n",
    "\n",
    "# Time Difference for Building Fire\n",
    "time_diff = (building_fire.ARRIVAL_DATE_TIME.apply(lambda x: datetime.strptime(x, '%m/%d/%Y %I:%M:%S %p')) -\n",
    "             building_fire.INCIDENT_DATE_TIME.apply(lambda x: datetime.strptime(x, '%m/%d/%Y %I:%M:%S %p')))\n",
    "time_diff = time_diff.apply(lambda x: x.seconds // 60 + x.seconds % 60 / 60)\n",
    "\n",
    "plt.figure()\n",
    "sns.distplot(time_diff[time_diff < 10])\n",
    "plt.show()"
   ]
  },
  {
   "cell_type": "code",
   "execution_count": 9,
   "metadata": {},
   "outputs": [
    {
     "data": {
      "text/plain": [
       "count    13069.000000\n",
       "mean         3.701988\n",
       "std         12.607607\n",
       "min          0.250000\n",
       "25%          2.850000\n",
       "50%          3.450000\n",
       "75%          4.150000\n",
       "max       1434.916667\n",
       "dtype: float64"
      ]
     },
     "execution_count": 9,
     "metadata": {},
     "output_type": "execute_result"
    }
   ],
   "source": [
    "time_diff.describe()"
   ]
  },
  {
   "cell_type": "markdown",
   "metadata": {},
   "source": [
    "5. We can use the FDNY dataset to investigate at what time of the day people cook most. Compute what proportion of all incidents are cooking fires for every hour of the day by normalizing the number of cooking fires in a given hour by the total number of incidents that occured in that hour. Find the hour of the day that has the highest proportion of cooking fires and submit that proportion of cooking fires. A cooking fire is an incident for which 'INCIDENT_TYPE_DESC' is '113 - Cooking fire, confined to container'. Note: round incident times down. For example, if an incident occured at 22:55 it occured in hour 22."
   ]
  },
  {
   "cell_type": "code",
   "execution_count": 10,
   "metadata": {},
   "outputs": [],
   "source": [
    "all_inc = (fire_df['INCIDENT_DATE_TIME'].apply(lambda x: datetime.strptime(x, '%m/%d/%Y %I:%M:%S %p').hour)).value_counts()\n",
    "cooking_fire = (fire_df[fire_df.INCIDENT_TYPE_DESC == '113 - Cooking fire, confined to container']\n",
    "                ['INCIDENT_DATE_TIME'].apply(lambda x: datetime.strptime(x, '%m/%d/%Y %I:%M:%S %p').hour)).value_counts()\n",
    "\n",
    "hour_ratio = cooking_fire / all_inc"
   ]
  },
  {
   "cell_type": "code",
   "execution_count": 11,
   "metadata": {},
   "outputs": [
    {
     "name": "stdout",
     "output_type": "stream",
     "text": [
      "The hour of the day that has the highest proportion of cooking fires:  18\n"
     ]
    }
   ],
   "source": [
    "hour_ratio[hour_ratio == hour_ratio.max()].index\n",
    "\n",
    "print(\"The hour of the day that has the highest proportion of cooking fires: \", \n",
    "     hour_ratio[hour_ratio == hour_ratio.max()].index[0])"
   ]
  },
  {
   "cell_type": "markdown",
   "metadata": {},
   "source": [
    "6. What is the coefficient of determination (R squared) between the number of residents at each zip code and the number of inicidents whose type is classified as '111 - Building fire' at each of those zip codes."
   ]
  },
  {
   "cell_type": "code",
   "execution_count": 12,
   "metadata": {},
   "outputs": [],
   "source": [
    "# read zipcode dataframe\n",
    "census = pd.read_csv('2010+Census+Population+By+Zipcode+(ZCTA).csv')"
   ]
  },
  {
   "cell_type": "code",
   "execution_count": 13,
   "metadata": {},
   "outputs": [
    {
     "data": {
      "text/html": [
       "<div>\n",
       "<style scoped>\n",
       "    .dataframe tbody tr th:only-of-type {\n",
       "        vertical-align: middle;\n",
       "    }\n",
       "\n",
       "    .dataframe tbody tr th {\n",
       "        vertical-align: top;\n",
       "    }\n",
       "\n",
       "    .dataframe thead th {\n",
       "        text-align: right;\n",
       "    }\n",
       "</style>\n",
       "<table border=\"1\" class=\"dataframe\">\n",
       "  <thead>\n",
       "    <tr style=\"text-align: right;\">\n",
       "      <th></th>\n",
       "      <th>Zip Code ZCTA</th>\n",
       "      <th>2010 Census Population</th>\n",
       "    </tr>\n",
       "  </thead>\n",
       "  <tbody>\n",
       "    <tr>\n",
       "      <th>0</th>\n",
       "      <td>1001</td>\n",
       "      <td>16769</td>\n",
       "    </tr>\n",
       "    <tr>\n",
       "      <th>1</th>\n",
       "      <td>1002</td>\n",
       "      <td>29049</td>\n",
       "    </tr>\n",
       "    <tr>\n",
       "      <th>2</th>\n",
       "      <td>1003</td>\n",
       "      <td>10372</td>\n",
       "    </tr>\n",
       "    <tr>\n",
       "      <th>3</th>\n",
       "      <td>1005</td>\n",
       "      <td>5079</td>\n",
       "    </tr>\n",
       "    <tr>\n",
       "      <th>4</th>\n",
       "      <td>1007</td>\n",
       "      <td>14649</td>\n",
       "    </tr>\n",
       "  </tbody>\n",
       "</table>\n",
       "</div>"
      ],
      "text/plain": [
       "   Zip Code ZCTA  2010 Census Population\n",
       "0           1001                   16769\n",
       "1           1002                   29049\n",
       "2           1003                   10372\n",
       "3           1005                    5079\n",
       "4           1007                   14649"
      ]
     },
     "execution_count": 13,
     "metadata": {},
     "output_type": "execute_result"
    }
   ],
   "source": [
    "census.head()"
   ]
  },
  {
   "cell_type": "code",
   "execution_count": 14,
   "metadata": {},
   "outputs": [
    {
     "name": "stdout",
     "output_type": "stream",
     "text": [
      "The R-squared value is: 0.597259561000609\n"
     ]
    }
   ],
   "source": [
    "building_fire.ZIP_CODE = building_fire.ZIP_CODE.astype(int)\n",
    "inc_count = pd.DataFrame(building_fire.groupby('ZIP_CODE').INCIDENT_TYPE_DESC.count()).reset_index()\n",
    "\n",
    "incident_data = inc_count.merge(census, \n",
    "                left_on='ZIP_CODE',\n",
    "                right_on='Zip Code ZCTA',\n",
    "                how='inner')\n",
    "\n",
    "slope, intercept, r_value, p_value, std_err = linregress(incident_data.INCIDENT_TYPE_DESC, \n",
    "                                                         incident_data['2010 Census Population'])\n",
    "\n",
    "print('The R-squared value is:', r_value**2)"
   ]
  },
  {
   "cell_type": "markdown",
   "metadata": {},
   "source": [
    "7. For this question, only consider incidents that have information about whether a CO detector was present or not. We are interested in how many times more likely it is that an incident is long when no CO detector is present compared to when a CO detector is present. For events with CO detector and for those without one, compute the proportion of incidents that lasted 20-30, 30-40, 40-50, 50-60, and 60-70 minutes (both interval boundary values included) by dividing the number of incidents in each time interval with the total number of incidents. For each bin, compute the ratio of the 'CO detector absent' frequency to the 'CO detector present' frequency. Perform a linear regression of this ratio to the mid-point of the bins. From this, what is the predicted ratio for events lasting 39 minutes?"
   ]
  },
  {
   "cell_type": "code",
   "execution_count": 15,
   "metadata": {},
   "outputs": [],
   "source": [
    "yes_co, no_co = (fire_df[fire_df.CO_DETECTOR_PRESENT_DESC == \"Yes\"], \n",
    "                 fire_df[fire_df.CO_DETECTOR_PRESENT_DESC == \"No\"])"
   ]
  },
  {
   "cell_type": "code",
   "execution_count": 16,
   "metadata": {},
   "outputs": [],
   "source": [
    "def binned_minutes(df):\n",
    "    bins = [20, 30, 40, 50, 60, 70]\n",
    "    return (pd.cut(df['TOTAL_INCIDENT_DURATION'] / 60, bins=bins).value_counts()\n",
    "            / df['TOTAL_INCIDENT_DURATION'].count())"
   ]
  },
  {
   "cell_type": "code",
   "execution_count": 17,
   "metadata": {},
   "outputs": [
    {
     "data": {
      "image/png": "[encoded data removed]",
      "text/plain": [
       "<Figure size 432x288 with 1 Axes>"
      ]
     },
     "metadata": {
      "needs_background": "light"
     },
     "output_type": "display_data"
    }
   ],
   "source": [
    "yes_co = binned_minutes(yes_co)\n",
    "no_co = binned_minutes(no_co)\n",
    "freq = no_co / yes_co\n",
    "mid = np.array([25, 35, 45, 55, 65])\n",
    "\n",
    "plt.figure()\n",
    "plt.plot(mid, freq)\n",
    "plt.show()"
   ]
  },
  {
   "cell_type": "code",
   "execution_count": 18,
   "metadata": {},
   "outputs": [
    {
     "name": "stdout",
     "output_type": "stream",
     "text": [
      "Predicted Ratio for 39 min: 1.4088371233130825\n"
     ]
    }
   ],
   "source": [
    "lr = LinearRegression()\n",
    "lr.fit(mid.reshape(-1, 1), freq.values.reshape(-1, 1))\n",
    "prediction = lr.predict(np.array([39]).reshape(1, -1))\n",
    "\n",
    "print('Predicted Ratio for 39 min:', prediction[0][0])"
   ]
  },
  {
   "cell_type": "markdown",
   "metadata": {},
   "source": [
    "8. Calculate the chi-square test statistic for testing whether an incident is more likely to last longer than 60 minutes when CO detector is not present. Again only consider incidents that have information about whether a CO detector was present or not."
   ]
  },
  {
   "cell_type": "code",
   "execution_count": 19,
   "metadata": {},
   "outputs": [
    {
     "data": {
      "text/plain": [
       "Power_divergenceResult(statistic=1.601600141194666, pvalue=0.8085045107806998)"
      ]
     },
     "execution_count": 19,
     "metadata": {},
     "output_type": "execute_result"
    }
   ],
   "source": [
    "chisquare(freq)"
   ]
  },
  {
   "cell_type": "markdown",
   "metadata": {},
   "source": [
    "### Section 2\n",
    "A circular road has N positions labeled 0 through N−1 where adjacent positions are connected to each other and position N−1 is connected to 0. M cars start at position 0 through M−1 (inclusive). A car can make a valid move by moving forward one position (or goes from N-1 to 0) if the position it is moving into is empty. At each turn, only consider cars that have a valid move available and make one of the valid moves that you choose randomly with equal probability. After T rounds, we compute the average (A) and standard deviation (S) of the position of the cars."
   ]
  },
  {
   "cell_type": "code",
   "execution_count": 20,
   "metadata": {},
   "outputs": [],
   "source": [
    "from random import choice"
   ]
  },
  {
   "cell_type": "code",
   "execution_count": 21,
   "metadata": {},
   "outputs": [],
   "source": [
    "class Road:\n",
    "    # Initialize N number of positions and M cars on the roads\n",
    "    def __init__(self, N, M):\n",
    "        self.pos_num = N\n",
    "        self.car_num = M\n",
    "        self.pos = [False] * N\n",
    "        self.pos[:M] = [True] * M\n",
    "        \n",
    "    def move_forward(self, i):\n",
    "        if (i == (self.pos_num - 1)):\n",
    "            self.pos[i], self.pos[0] = False, True\n",
    "        else:\n",
    "            self.pos[i], self.pos[i+1] = False, True\n",
    "    \n",
    "    # Move T rounds\n",
    "    def move(self, T):\n",
    "        for i in range(T):\n",
    "            for j in range(self.pos_num):\n",
    "                if (j == self.pos_num - 1):\n",
    "                    if ((self.pos[0] == False) and choice([True, False])):\n",
    "                        self.move_forward(j)\n",
    "                else:\n",
    "                    if((self.pos[j+1] == False) and choice([True, False])):\n",
    "                        self.move_forward(j)\n",
    "    \n",
    "    # Calculate avg position and std of the positions of the cars\n",
    "    def avg_pos_std(self):\n",
    "        arr = []\n",
    "        for i in range(self.pos_num):\n",
    "            if(self.pos[i]):\n",
    "                arr.append(i)\n",
    "        \n",
    "        arr = np.array(arr)\n",
    "        return arr.mean(), arr.std()"
   ]
  },
  {
   "cell_type": "code",
   "execution_count": 22,
   "metadata": {},
   "outputs": [
    {
     "data": {
      "image/png": "[encoded data removed]",
      "text/plain": [
       "<Figure size 432x288 with 1 Axes>"
      ]
     },
     "metadata": {
      "needs_background": "light"
     },
     "output_type": "display_data"
    },
    {
     "data": {
      "image/png": "[encoded data removed]",
      "text/plain": [
       "<Figure size 432x288 with 1 Axes>"
      ]
     },
     "metadata": {
      "needs_background": "light"
     },
     "output_type": "display_data"
    }
   ],
   "source": [
    "pos = []\n",
    "std = []\n",
    "N, M, T = 10, 5, 20\n",
    "\n",
    "for i in range(50000):\n",
    "    temp = Road(N, M)\n",
    "    temp.move(T)\n",
    "    pos_temp, std_temp = temp.avg_pos_std()\n",
    "    pos.append(pos_temp)\n",
    "    std.append(std_temp)\n",
    "\n",
    "pos = np.array(pos)\n",
    "std = np.array(std)\n",
    "\n",
    "plt.figure()\n",
    "plt.hist(pos)\n",
    "plt.show()\n",
    "\n",
    "plt.figure()\n",
    "plt.hist(std)\n",
    "plt.show()"
   ]
  },
  {
   "cell_type": "code",
   "execution_count": 23,
   "metadata": {},
   "outputs": [
    {
     "name": "stdout",
     "output_type": "stream",
     "text": [
      "The expected value and std of A when N = 10, M = 5, T = 20: 4.383829087301588 0.4092532958121936\n",
      "The expected value and std of S when N = 10, M = 5, T = 20: 2.86742103165771 0.18924680389210222\n"
     ]
    }
   ],
   "source": [
    "print('The expected value and std of A when N = 10, M = 5, T = 20:',\n",
    "      pos.mean(),\n",
    "      pos.std())\n",
    "\n",
    "print('The expected value and std of S when N = 10, M = 5, T = 20:',\n",
    "      std.mean(),\n",
    "      std.std())"
   ]
  },
  {
   "cell_type": "code",
   "execution_count": 24,
   "metadata": {},
   "outputs": [
    {
     "data": {
      "image/png": "[encoded data removed]",
      "text/plain": [
       "<Figure size 432x288 with 1 Axes>"
      ]
     },
     "metadata": {
      "needs_background": "light"
     },
     "output_type": "display_data"
    },
    {
     "data": {
      "image/png": "[encoded data removed]",
      "text/plain": [
       "<Figure size 432x288 with 1 Axes>"
      ]
     },
     "metadata": {
      "needs_background": "light"
     },
     "output_type": "display_data"
    }
   ],
   "source": [
    "pos = []\n",
    "std = []\n",
    "N, M, T = 25, 10, 50\n",
    "\n",
    "for i in range(50000):\n",
    "    temp = Road(N, M)\n",
    "    temp.move(T)\n",
    "    pos_temp, std_temp = temp.avg_pos_std()\n",
    "    pos.append(pos_temp)\n",
    "    std.append(std_temp)\n",
    "\n",
    "pos = np.array(pos)\n",
    "std = np.array(std)\n",
    "\n",
    "plt.figure()\n",
    "plt.hist(pos)\n",
    "plt.show()\n",
    "\n",
    "plt.figure()\n",
    "plt.hist(std)\n",
    "plt.show()"
   ]
  },
  {
   "cell_type": "code",
   "execution_count": 25,
   "metadata": {},
   "outputs": [
    {
     "name": "stdout",
     "output_type": "stream",
     "text": [
      "The expected value and std of A when N = 25, M = 10, T = 50: 11.788708428723321 0.44596250533769455\n",
      "The expected value and std of S when N = 25, M = 10, T = 50: 7.2410618575205685 0.16775084607944876\n"
     ]
    }
   ],
   "source": [
    "print('The expected value and std of A when N = 25, M = 10, T = 50:',\n",
    "      pos.mean(),\n",
    "      pos.std())\n",
    "\n",
    "print('The expected value and std of S when N = 25, M = 10, T = 50:',\n",
    "      std.mean(),\n",
    "      std.std())"
   ]
  },
  {
   "cell_type": "markdown",
   "metadata": {},
   "source": [
    "### Section 3\n",
    "Propose a project to do while at The Data Incubator. We want to know about your ability to think at a high level. Try to think of projects that users or businesses will care about that are also relatively unanalyzed.\n",
    "\n",
    "Propose a project that uses a large, publicly accessible dataset. Explain your motivation for tackling this problem, discuss the data source(s) you are using, and explain the analysis you are performing. "
   ]
  },
  {
   "cell_type": "markdown",
   "metadata": {},
   "source": [
    "### Project Ideas\n",
    "\n",
    "Each year, many foreign workers are employed by American companies that are trying to fill positions that require special knowledge or education. These companies need to apply H1-B to those foreign workers which give workers authorization to work in the US. It is often a tedious and troublesome process. Therefore, I am proposing to have a Machine Learning model to predict the likelihood that if a person will be accepted to the H1-B program prior applying. It also gives suggestions to companies that should be changed in the applications to order to increase the chances of getting H1-B visa. Since the cost time and money for each denied H1-B case, the machine learning model aims to help business to save time and focus on more important tasks to worry.\n",
    "\n",
    "From the first graph, it shows that most H1-B decisions are irrelevent to its salaries. I am a bit surprised by this result because I assumed that a higher paying job would usually mean a more specialized job that would requires a better approval chance.\n",
    "\n",
    "The second graph shows that the average length of decisions. For the most part, it takes somewhere from 4 to 8 days to approve H1-B applications with median of 6 days to hear back. However, your case is denied, it will reply within with 10 days. \n",
    "\n",
    "https://www.kaggle.com/trivedicharmi/h1b-disclosure-dataset/home"
   ]
  },
  {
   "cell_type": "code",
   "execution_count": 26,
   "metadata": {},
   "outputs": [
    {
     "name": "stderr",
     "output_type": "stream",
     "text": [
      "C:\\Users\\Siu Ka\\Anaconda3\\lib\\site-packages\\IPython\\core\\interactiveshell.py:2785: DtypeWarning: Columns (25) have mixed types. Specify dtype option on import or set low_memory=False.\n",
      "  interactivity=interactivity, compiler=compiler, result=result)\n"
     ]
    }
   ],
   "source": [
    "h1b_data = pd.read_csv('1. Master H1B Dataset.csv',\n",
    "                       encoding = \"ISO-8859-1\")"
   ]
  },
  {
   "cell_type": "code",
   "execution_count": 27,
   "metadata": {},
   "outputs": [
    {
     "data": {
      "text/html": [
       "<div>\n",
       "<style scoped>\n",
       "    .dataframe tbody tr th:only-of-type {\n",
       "        vertical-align: middle;\n",
       "    }\n",
       "\n",
       "    .dataframe tbody tr th {\n",
       "        vertical-align: top;\n",
       "    }\n",
       "\n",
       "    .dataframe thead th {\n",
       "        text-align: right;\n",
       "    }\n",
       "</style>\n",
       "<table border=\"1\" class=\"dataframe\">\n",
       "  <thead>\n",
       "    <tr style=\"text-align: right;\">\n",
       "      <th></th>\n",
       "      <th>CASE_SUBMITTED_DAY</th>\n",
       "      <th>CASE_SUBMITTED_MONTH</th>\n",
       "      <th>CASE_SUBMITTED_YEAR</th>\n",
       "      <th>DECISION_DAY</th>\n",
       "      <th>DECISION_MONTH</th>\n",
       "      <th>DECISION_YEAR</th>\n",
       "      <th>VISA_CLASS</th>\n",
       "      <th>EMPLOYER_NAME</th>\n",
       "      <th>EMPLOYER_STATE</th>\n",
       "      <th>EMPLOYER_COUNTRY</th>\n",
       "      <th>...</th>\n",
       "      <th>PW_SOURCE_YEAR</th>\n",
       "      <th>PW_SOURCE_OTHER</th>\n",
       "      <th>WAGE_RATE_OF_PAY_FROM</th>\n",
       "      <th>WAGE_RATE_OF_PAY_TO</th>\n",
       "      <th>WAGE_UNIT_OF_PAY</th>\n",
       "      <th>H-1B_DEPENDENT</th>\n",
       "      <th>WILLFUL_VIOLATOR</th>\n",
       "      <th>WORKSITE_STATE</th>\n",
       "      <th>WORKSITE_POSTAL_CODE</th>\n",
       "      <th>CASE_STATUS</th>\n",
       "    </tr>\n",
       "  </thead>\n",
       "  <tbody>\n",
       "    <tr>\n",
       "      <th>0</th>\n",
       "      <td>24</td>\n",
       "      <td>2</td>\n",
       "      <td>2016</td>\n",
       "      <td>1</td>\n",
       "      <td>10</td>\n",
       "      <td>2016</td>\n",
       "      <td>H1B</td>\n",
       "      <td>DISCOVER PRODUCTS INC</td>\n",
       "      <td>IL</td>\n",
       "      <td>UNITED STATES OF AMERICA</td>\n",
       "      <td>...</td>\n",
       "      <td>2015.0</td>\n",
       "      <td>OFLC ONLINE DATA CENTER</td>\n",
       "      <td>65811.0</td>\n",
       "      <td>67320.0</td>\n",
       "      <td>Year</td>\n",
       "      <td>N</td>\n",
       "      <td>N</td>\n",
       "      <td>IL</td>\n",
       "      <td>60015</td>\n",
       "      <td>CERTIFIEDWITHDRAWN</td>\n",
       "    </tr>\n",
       "    <tr>\n",
       "      <th>1</th>\n",
       "      <td>4</td>\n",
       "      <td>3</td>\n",
       "      <td>2016</td>\n",
       "      <td>1</td>\n",
       "      <td>10</td>\n",
       "      <td>2016</td>\n",
       "      <td>H1B</td>\n",
       "      <td>DFS SERVICES LLC</td>\n",
       "      <td>IL</td>\n",
       "      <td>UNITED STATES OF AMERICA</td>\n",
       "      <td>...</td>\n",
       "      <td>2015.0</td>\n",
       "      <td>WILLIS TOWERS WATSON SURVEY</td>\n",
       "      <td>53000.0</td>\n",
       "      <td>57200.0</td>\n",
       "      <td>Year</td>\n",
       "      <td>N</td>\n",
       "      <td>N</td>\n",
       "      <td>IL</td>\n",
       "      <td>60015</td>\n",
       "      <td>CERTIFIEDWITHDRAWN</td>\n",
       "    </tr>\n",
       "    <tr>\n",
       "      <th>2</th>\n",
       "      <td>10</td>\n",
       "      <td>3</td>\n",
       "      <td>2016</td>\n",
       "      <td>1</td>\n",
       "      <td>10</td>\n",
       "      <td>2016</td>\n",
       "      <td>H1B</td>\n",
       "      <td>EASTBANC TECHNOLOGIES LLC</td>\n",
       "      <td>DC</td>\n",
       "      <td>UNITED STATES OF AMERICA</td>\n",
       "      <td>...</td>\n",
       "      <td>2015.0</td>\n",
       "      <td>OFLC ONLINE DATA CENTER</td>\n",
       "      <td>77000.0</td>\n",
       "      <td>0.0</td>\n",
       "      <td>Year</td>\n",
       "      <td>Y</td>\n",
       "      <td>N</td>\n",
       "      <td>DC</td>\n",
       "      <td>20007</td>\n",
       "      <td>CERTIFIEDWITHDRAWN</td>\n",
       "    </tr>\n",
       "    <tr>\n",
       "      <th>3</th>\n",
       "      <td>28</td>\n",
       "      <td>9</td>\n",
       "      <td>2016</td>\n",
       "      <td>1</td>\n",
       "      <td>10</td>\n",
       "      <td>2016</td>\n",
       "      <td>H1B</td>\n",
       "      <td>INFO SERVICES LLC</td>\n",
       "      <td>MI</td>\n",
       "      <td>UNITED STATES OF AMERICA</td>\n",
       "      <td>...</td>\n",
       "      <td>2016.0</td>\n",
       "      <td>OFLC ONLINE DATA CENTER</td>\n",
       "      <td>102000.0</td>\n",
       "      <td>0.0</td>\n",
       "      <td>Year</td>\n",
       "      <td>Y</td>\n",
       "      <td>N</td>\n",
       "      <td>NJ</td>\n",
       "      <td>7302</td>\n",
       "      <td>WITHDRAWN</td>\n",
       "    </tr>\n",
       "    <tr>\n",
       "      <th>4</th>\n",
       "      <td>22</td>\n",
       "      <td>2</td>\n",
       "      <td>2015</td>\n",
       "      <td>2</td>\n",
       "      <td>10</td>\n",
       "      <td>2016</td>\n",
       "      <td>H1B</td>\n",
       "      <td>BBandT CORPORATION</td>\n",
       "      <td>NC</td>\n",
       "      <td>UNITED STATES OF AMERICA</td>\n",
       "      <td>...</td>\n",
       "      <td>2015.0</td>\n",
       "      <td>OFLC ONLINE DATA CENTER</td>\n",
       "      <td>132500.0</td>\n",
       "      <td>0.0</td>\n",
       "      <td>Year</td>\n",
       "      <td>N</td>\n",
       "      <td>N</td>\n",
       "      <td>NY</td>\n",
       "      <td>10036</td>\n",
       "      <td>CERTIFIEDWITHDRAWN</td>\n",
       "    </tr>\n",
       "  </tbody>\n",
       "</table>\n",
       "<p>5 rows × 27 columns</p>\n",
       "</div>"
      ],
      "text/plain": [
       "   CASE_SUBMITTED_DAY  CASE_SUBMITTED_MONTH  CASE_SUBMITTED_YEAR  \\\n",
       "0                  24                     2                 2016   \n",
       "1                   4                     3                 2016   \n",
       "2                  10                     3                 2016   \n",
       "3                  28                     9                 2016   \n",
       "4                  22                     2                 2015   \n",
       "\n",
       "   DECISION_DAY  DECISION_MONTH  DECISION_YEAR VISA_CLASS  \\\n",
       "0             1              10           2016        H1B   \n",
       "1             1              10           2016        H1B   \n",
       "2             1              10           2016        H1B   \n",
       "3             1              10           2016        H1B   \n",
       "4             2              10           2016        H1B   \n",
       "\n",
       "               EMPLOYER_NAME EMPLOYER_STATE          EMPLOYER_COUNTRY  \\\n",
       "0      DISCOVER PRODUCTS INC             IL  UNITED STATES OF AMERICA   \n",
       "1           DFS SERVICES LLC             IL  UNITED STATES OF AMERICA   \n",
       "2  EASTBANC TECHNOLOGIES LLC             DC  UNITED STATES OF AMERICA   \n",
       "3          INFO SERVICES LLC             MI  UNITED STATES OF AMERICA   \n",
       "4         BBandT CORPORATION             NC  UNITED STATES OF AMERICA   \n",
       "\n",
       "          ...         PW_SOURCE_YEAR              PW_SOURCE_OTHER  \\\n",
       "0         ...                 2015.0      OFLC ONLINE DATA CENTER   \n",
       "1         ...                 2015.0  WILLIS TOWERS WATSON SURVEY   \n",
       "2         ...                 2015.0      OFLC ONLINE DATA CENTER   \n",
       "3         ...                 2016.0      OFLC ONLINE DATA CENTER   \n",
       "4         ...                 2015.0      OFLC ONLINE DATA CENTER   \n",
       "\n",
       "   WAGE_RATE_OF_PAY_FROM WAGE_RATE_OF_PAY_TO  WAGE_UNIT_OF_PAY H-1B_DEPENDENT  \\\n",
       "0                65811.0             67320.0              Year              N   \n",
       "1                53000.0             57200.0              Year              N   \n",
       "2                77000.0                 0.0              Year              Y   \n",
       "3               102000.0                 0.0              Year              Y   \n",
       "4               132500.0                 0.0              Year              N   \n",
       "\n",
       "  WILLFUL_VIOLATOR  WORKSITE_STATE WORKSITE_POSTAL_CODE         CASE_STATUS  \n",
       "0                N              IL                60015  CERTIFIEDWITHDRAWN  \n",
       "1                N              IL                60015  CERTIFIEDWITHDRAWN  \n",
       "2                N              DC                20007  CERTIFIEDWITHDRAWN  \n",
       "3                N              NJ                 7302           WITHDRAWN  \n",
       "4                N              NY                10036  CERTIFIEDWITHDRAWN  \n",
       "\n",
       "[5 rows x 27 columns]"
      ]
     },
     "execution_count": 27,
     "metadata": {},
     "output_type": "execute_result"
    }
   ],
   "source": [
    "h1b_data.head()"
   ]
  },
  {
   "cell_type": "code",
   "execution_count": 28,
   "metadata": {},
   "outputs": [
    {
     "data": {
      "text/plain": [
       "CASE_SUBMITTED_DAY          31\n",
       "CASE_SUBMITTED_MONTH        12\n",
       "CASE_SUBMITTED_YEAR          7\n",
       "DECISION_DAY                31\n",
       "DECISION_MONTH               9\n",
       "DECISION_YEAR                2\n",
       "VISA_CLASS                   4\n",
       "EMPLOYER_NAME            61103\n",
       "EMPLOYER_STATE              56\n",
       "EMPLOYER_COUNTRY             4\n",
       "SOC_NAME                    56\n",
       "NAICS_CODE                2030\n",
       "TOTAL_WORKERS               52\n",
       "FULL_TIME_POSITION           2\n",
       "PREVAILING_WAGE          21955\n",
       "PW_UNIT_OF_PAY               5\n",
       "PW_SOURCE                    5\n",
       "PW_SOURCE_YEAR              19\n",
       "PW_SOURCE_OTHER            236\n",
       "WAGE_RATE_OF_PAY_FROM    45729\n",
       "WAGE_RATE_OF_PAY_TO      13038\n",
       "WAGE_UNIT_OF_PAY             5\n",
       "H-1B_DEPENDENT               2\n",
       "WILLFUL_VIOLATOR             2\n",
       "WORKSITE_STATE              55\n",
       "WORKSITE_POSTAL_CODE     17894\n",
       "CASE_STATUS                  4\n",
       "dtype: int64"
      ]
     },
     "execution_count": 28,
     "metadata": {},
     "output_type": "execute_result"
    }
   ],
   "source": [
    "h1b_data.nunique()"
   ]
  },
  {
   "cell_type": "code",
   "execution_count": 29,
   "metadata": {},
   "outputs": [
    {
     "data": {
      "text/plain": [
       "array(['CERTIFIEDWITHDRAWN', 'WITHDRAWN', 'CERTIFIED', 'DENIED'],\n",
       "      dtype=object)"
      ]
     },
     "execution_count": 29,
     "metadata": {},
     "output_type": "execute_result"
    }
   ],
   "source": [
    "h1b_data.CASE_STATUS.unique()"
   ]
  },
  {
   "cell_type": "code",
   "execution_count": 30,
   "metadata": {},
   "outputs": [
    {
     "data": {
      "image/png": "[encoded data removed]",
      "text/plain": [
       "<Figure size 432x288 with 1 Axes>"
      ]
     },
     "metadata": {
      "needs_background": "light"
     },
     "output_type": "display_data"
    }
   ],
   "source": [
    "plt.figure()\n",
    "sns.violinplot(x=\"CASE_STATUS\", \n",
    "               y=h1b_data.WAGE_RATE_OF_PAY_FROM, \n",
    "               data=h1b_data)\n",
    "plt.xticks(rotation='vertical')\n",
    "plt.xlabel('CASE_STATUS', fontsize=12)\n",
    "plt.ylabel('Wages', fontsize=12)\n",
    "plt.title(\"Wage distribution per Categories\")\n",
    "plt.ylim((0, 200000))\n",
    "plt.show()"
   ]
  },
  {
   "cell_type": "code",
   "execution_count": 31,
   "metadata": {},
   "outputs": [
    {
     "data": {
      "text/plain": [
       "<matplotlib.axes._subplots.AxesSubplot at 0x1f05be53668>"
      ]
     },
     "execution_count": 31,
     "metadata": {},
     "output_type": "execute_result"
    },
    {
     "data": {
      "image/png": "[encoded data removed]",
      "text/plain": [
       "<Figure size 432x288 with 2 Axes>"
      ]
     },
     "metadata": {
      "needs_background": "light"
     },
     "output_type": "display_data"
    }
   ],
   "source": [
    "sns.heatmap(h1b_data.corr())"
   ]
  },
  {
   "cell_type": "code",
   "execution_count": 61,
   "metadata": {},
   "outputs": [],
   "source": [
    "h1b_data['submitted_date'] = pd.to_datetime((\n",
    "    h1b_data.CASE_SUBMITTED_YEAR*10000+\n",
    "    h1b_data.CASE_SUBMITTED_MONTH*100+\n",
    "    h1b_data.CASE_SUBMITTED_DAY).apply(str),\n",
    "    format='%Y%m%d')\n",
    "\n",
    "h1b_data['decision_date'] = pd.to_datetime((\n",
    "    h1b_data.DECISION_YEAR*10000+\n",
    "    h1b_data.DECISION_MONTH*100+\n",
    "    h1b_data.DECISION_DAY).apply(str),\n",
    "    format='%Y%m%d')\n",
    "\n",
    "h1b_data['time_diff'] = (h1b_data['decision_date'] - \n",
    "                         h1b_data['submitted_date']).dt.days"
   ]
  },
  {
   "cell_type": "code",
   "execution_count": 58,
   "metadata": {},
   "outputs": [],
   "source": [
    "# Only looking at Denied and Certified categories\n",
    "selected = h1b_data[h1b_data.CASE_STATUS.apply(lambda x: \n",
    "                                    x in ['CERTIFIED', 'DENIED'])]"
   ]
  },
  {
   "cell_type": "code",
   "execution_count": 62,
   "metadata": {
    "scrolled": true
   },
   "outputs": [
    {
     "data": {
      "image/png": "[encoded data removed]",
      "text/plain": [
       "<Figure size 432x288 with 1 Axes>"
      ]
     },
     "metadata": {
      "needs_background": "light"
     },
     "output_type": "display_data"
    }
   ],
   "source": [
    "plt.figure()\n",
    "sns.violinplot(x=\"CASE_STATUS\", \n",
    "               y=selected.time_diff, \n",
    "               data=selected)\n",
    "plt.xticks(rotation='vertical')\n",
    "plt.xlabel('CASE_STATUS', fontsize=12)\n",
    "plt.ylabel('DAYS TO MAKE DECISION', fontsize=12)\n",
    "plt.title(\"days to make decision distribution\")\n",
    "plt.show()"
   ]
  },
  {
   "cell_type": "code",
   "execution_count": null,
   "metadata": {},
   "outputs": [],
   "source": []
  }
 ],
 "metadata": {
  "kernelspec": {
   "display_name": "Python 3",
   "language": "python",
   "name": "python3"
  },
  "language_info": {
   "codemirror_mode": {
    "name": "ipython",
    "version": 3
   },
   "file_extension": ".py",
   "mimetype": "text/x-python",
   "name": "python",
   "nbconvert_exporter": "python",
   "pygments_lexer": "ipython3",
   "version": "3.6.6"
  }
 },
 "nbformat": 4,
 "nbformat_minor": 2
}
