{
 "cells": [
  {
   "cell_type": "code",
   "execution_count": 1,
   "metadata": {},
   "outputs": [],
   "source": [
    "import pandas as pd\n",
    "import numpy as np\n",
    "import matplotlib.pyplot as plt\n",
    "\n",
    "%matplotlib inline\n",
    "import seaborn as sns\n",
    "\n",
    "from datetime import datetime\n",
    "from scipy.stats import linregress, chisquare\n",
    "from sklearn.linear_model import LinearRegression"
   ]
  },
  {
   "cell_type": "markdown",
   "metadata": {},
   "source": [
    "### Section 3\n",
    "Propose a project to do while at The Data Incubator. We want to know about your ability to think at a high level. Try to think of projects that users or businesses will care about that are also relatively unanalyzed.\n",
    "\n",
    "Propose a project that uses a large, publicly accessible dataset. Explain your motivation for tackling this problem, discuss the data source(s) you are using, and explain the analysis you are performing. "
   ]
  },
  {
   "cell_type": "markdown",
   "metadata": {},
   "source": [
    "### Project Ideas\n",
    "\n",
    "Each year, many foreign workers are employed by American companies that are trying to fill positions that require special knowledge or education. These companies need to apply H1-B to those foreign workers which give workers authorization to work in the US. It is often a tedious and troublesome process. Therefore, I am proposing to have a Machine Learning model to predict the likelihood that if a person will be accepted to the H1-B program prior applying. It also gives suggestions to companies that should be changed in the applications to order to increase the chances of getting H1-B visa. Since the cost time and money for each denied H1-B case, the machine learning model aims to help business to save time and focus on more important tasks to worry.\n",
    "\n",
    "From the first graph, it shows that most H1-B decisions are irrelevent to its salaries. I am a bit surprised by this result because I assumed that a higher paying job would usually mean a more specialized job that would requires a better approval chance.\n",
    "\n",
    "The second graph shows that the average length of decisions. For the most part, it takes somewhere from 4 to 8 days to approve H1-B applications with median of 6 days to hear back. However, your case is denied, it will reply within with 10 days. \n",
    "\n",
    "https://www.kaggle.com/trivedicharmi/h1b-disclosure-dataset/home"
   ]
  },
  {
   "cell_type": "code",
   "execution_count": 26,
   "metadata": {},
   "outputs": [
    {
     "name": "stderr",
     "output_type": "stream",
     "text": [
      "C:\\Users\\Siu Ka\\Anaconda3\\lib\\site-packages\\IPython\\core\\interactiveshell.py:2785: DtypeWarning: Columns (25) have mixed types. Specify dtype option on import or set low_memory=False.\n",
      "  interactivity=interactivity, compiler=compiler, result=result)\n"
     ]
    }
   ],
   "source": [
    "h1b_data = pd.read_csv('1. Master H1B Dataset.csv',\n",
    "                       encoding = \"ISO-8859-1\")"
   ]
  },
  {
   "cell_type": "code",
   "execution_count": 27,
   "metadata": {},
   "outputs": [
    {
     "data": {
      "text/html": [
       "<div>\n",
       "<style scoped>\n",
       "    .dataframe tbody tr th:only-of-type {\n",
       "        vertical-align: middle;\n",
       "    }\n",
       "\n",
       "    .dataframe tbody tr th {\n",
       "        vertical-align: top;\n",
       "    }\n",
       "\n",
       "    .dataframe thead th {\n",
       "        text-align: right;\n",
       "    }\n",
       "</style>\n",
       "<table border=\"1\" class=\"dataframe\">\n",
       "  <thead>\n",
       "    <tr style=\"text-align: right;\">\n",
       "      <th></th>\n",
       "      <th>CASE_SUBMITTED_DAY</th>\n",
       "      <th>CASE_SUBMITTED_MONTH</th>\n",
       "      <th>CASE_SUBMITTED_YEAR</th>\n",
       "      <th>DECISION_DAY</th>\n",
       "      <th>DECISION_MONTH</th>\n",
       "      <th>DECISION_YEAR</th>\n",
       "      <th>VISA_CLASS</th>\n",
       "      <th>EMPLOYER_NAME</th>\n",
       "      <th>EMPLOYER_STATE</th>\n",
       "      <th>EMPLOYER_COUNTRY</th>\n",
       "      <th>...</th>\n",
       "      <th>PW_SOURCE_YEAR</th>\n",
       "      <th>PW_SOURCE_OTHER</th>\n",
       "      <th>WAGE_RATE_OF_PAY_FROM</th>\n",
       "      <th>WAGE_RATE_OF_PAY_TO</th>\n",
       "      <th>WAGE_UNIT_OF_PAY</th>\n",
       "      <th>H-1B_DEPENDENT</th>\n",
       "      <th>WILLFUL_VIOLATOR</th>\n",
       "      <th>WORKSITE_STATE</th>\n",
       "      <th>WORKSITE_POSTAL_CODE</th>\n",
       "      <th>CASE_STATUS</th>\n",
       "    </tr>\n",
       "  </thead>\n",
       "  <tbody>\n",
       "    <tr>\n",
       "      <th>0</th>\n",
       "      <td>24</td>\n",
       "      <td>2</td>\n",
       "      <td>2016</td>\n",
       "      <td>1</td>\n",
       "      <td>10</td>\n",
       "      <td>2016</td>\n",
       "      <td>H1B</td>\n",
       "      <td>DISCOVER PRODUCTS INC</td>\n",
       "      <td>IL</td>\n",
       "      <td>UNITED STATES OF AMERICA</td>\n",
       "      <td>...</td>\n",
       "      <td>2015.0</td>\n",
       "      <td>OFLC ONLINE DATA CENTER</td>\n",
       "      <td>65811.0</td>\n",
       "      <td>67320.0</td>\n",
       "      <td>Year</td>\n",
       "      <td>N</td>\n",
       "      <td>N</td>\n",
       "      <td>IL</td>\n",
       "      <td>60015</td>\n",
       "      <td>CERTIFIEDWITHDRAWN</td>\n",
       "    </tr>\n",
       "    <tr>\n",
       "      <th>1</th>\n",
       "      <td>4</td>\n",
       "      <td>3</td>\n",
       "      <td>2016</td>\n",
       "      <td>1</td>\n",
       "      <td>10</td>\n",
       "      <td>2016</td>\n",
       "      <td>H1B</td>\n",
       "      <td>DFS SERVICES LLC</td>\n",
       "      <td>IL</td>\n",
       "      <td>UNITED STATES OF AMERICA</td>\n",
       "      <td>...</td>\n",
       "      <td>2015.0</td>\n",
       "      <td>WILLIS TOWERS WATSON SURVEY</td>\n",
       "      <td>53000.0</td>\n",
       "      <td>57200.0</td>\n",
       "      <td>Year</td>\n",
       "      <td>N</td>\n",
       "      <td>N</td>\n",
       "      <td>IL</td>\n",
       "      <td>60015</td>\n",
       "      <td>CERTIFIEDWITHDRAWN</td>\n",
       "    </tr>\n",
       "    <tr>\n",
       "      <th>2</th>\n",
       "      <td>10</td>\n",
       "      <td>3</td>\n",
       "      <td>2016</td>\n",
       "      <td>1</td>\n",
       "      <td>10</td>\n",
       "      <td>2016</td>\n",
       "      <td>H1B</td>\n",
       "      <td>EASTBANC TECHNOLOGIES LLC</td>\n",
       "      <td>DC</td>\n",
       "      <td>UNITED STATES OF AMERICA</td>\n",
       "      <td>...</td>\n",
       "      <td>2015.0</td>\n",
       "      <td>OFLC ONLINE DATA CENTER</td>\n",
       "      <td>77000.0</td>\n",
       "      <td>0.0</td>\n",
       "      <td>Year</td>\n",
       "      <td>Y</td>\n",
       "      <td>N</td>\n",
       "      <td>DC</td>\n",
       "      <td>20007</td>\n",
       "      <td>CERTIFIEDWITHDRAWN</td>\n",
       "    </tr>\n",
       "    <tr>\n",
       "      <th>3</th>\n",
       "      <td>28</td>\n",
       "      <td>9</td>\n",
       "      <td>2016</td>\n",
       "      <td>1</td>\n",
       "      <td>10</td>\n",
       "      <td>2016</td>\n",
       "      <td>H1B</td>\n",
       "      <td>INFO SERVICES LLC</td>\n",
       "      <td>MI</td>\n",
       "      <td>UNITED STATES OF AMERICA</td>\n",
       "      <td>...</td>\n",
       "      <td>2016.0</td>\n",
       "      <td>OFLC ONLINE DATA CENTER</td>\n",
       "      <td>102000.0</td>\n",
       "      <td>0.0</td>\n",
       "      <td>Year</td>\n",
       "      <td>Y</td>\n",
       "      <td>N</td>\n",
       "      <td>NJ</td>\n",
       "      <td>7302</td>\n",
       "      <td>WITHDRAWN</td>\n",
       "    </tr>\n",
       "    <tr>\n",
       "      <th>4</th>\n",
       "      <td>22</td>\n",
       "      <td>2</td>\n",
       "      <td>2015</td>\n",
       "      <td>2</td>\n",
       "      <td>10</td>\n",
       "      <td>2016</td>\n",
       "      <td>H1B</td>\n",
       "      <td>BBandT CORPORATION</td>\n",
       "      <td>NC</td>\n",
       "      <td>UNITED STATES OF AMERICA</td>\n",
       "      <td>...</td>\n",
       "      <td>2015.0</td>\n",
       "      <td>OFLC ONLINE DATA CENTER</td>\n",
       "      <td>132500.0</td>\n",
       "      <td>0.0</td>\n",
       "      <td>Year</td>\n",
       "      <td>N</td>\n",
       "      <td>N</td>\n",
       "      <td>NY</td>\n",
       "      <td>10036</td>\n",
       "      <td>CERTIFIEDWITHDRAWN</td>\n",
       "    </tr>\n",
       "  </tbody>\n",
       "</table>\n",
       "<p>5 rows × 27 columns</p>\n",
       "</div>"
      ],
      "text/plain": [
       "   CASE_SUBMITTED_DAY  CASE_SUBMITTED_MONTH  CASE_SUBMITTED_YEAR  \\\n",
       "0                  24                     2                 2016   \n",
       "1                   4                     3                 2016   \n",
       "2                  10                     3                 2016   \n",
       "3                  28                     9                 2016   \n",
       "4                  22                     2                 2015   \n",
       "\n",
       "   DECISION_DAY  DECISION_MONTH  DECISION_YEAR VISA_CLASS  \\\n",
       "0             1              10           2016        H1B   \n",
       "1             1              10           2016        H1B   \n",
       "2             1              10           2016        H1B   \n",
       "3             1              10           2016        H1B   \n",
       "4             2              10           2016        H1B   \n",
       "\n",
       "               EMPLOYER_NAME EMPLOYER_STATE          EMPLOYER_COUNTRY  \\\n",
       "0      DISCOVER PRODUCTS INC             IL  UNITED STATES OF AMERICA   \n",
       "1           DFS SERVICES LLC             IL  UNITED STATES OF AMERICA   \n",
       "2  EASTBANC TECHNOLOGIES LLC             DC  UNITED STATES OF AMERICA   \n",
       "3          INFO SERVICES LLC             MI  UNITED STATES OF AMERICA   \n",
       "4         BBandT CORPORATION             NC  UNITED STATES OF AMERICA   \n",
       "\n",
       "          ...         PW_SOURCE_YEAR              PW_SOURCE_OTHER  \\\n",
       "0         ...                 2015.0      OFLC ONLINE DATA CENTER   \n",
       "1         ...                 2015.0  WILLIS TOWERS WATSON SURVEY   \n",
       "2         ...                 2015.0      OFLC ONLINE DATA CENTER   \n",
       "3         ...                 2016.0      OFLC ONLINE DATA CENTER   \n",
       "4         ...                 2015.0      OFLC ONLINE DATA CENTER   \n",
       "\n",
       "   WAGE_RATE_OF_PAY_FROM WAGE_RATE_OF_PAY_TO  WAGE_UNIT_OF_PAY H-1B_DEPENDENT  \\\n",
       "0                65811.0             67320.0              Year              N   \n",
       "1                53000.0             57200.0              Year              N   \n",
       "2                77000.0                 0.0              Year              Y   \n",
       "3               102000.0                 0.0              Year              Y   \n",
       "4               132500.0                 0.0              Year              N   \n",
       "\n",
       "  WILLFUL_VIOLATOR  WORKSITE_STATE WORKSITE_POSTAL_CODE         CASE_STATUS  \n",
       "0                N              IL                60015  CERTIFIEDWITHDRAWN  \n",
       "1                N              IL                60015  CERTIFIEDWITHDRAWN  \n",
       "2                N              DC                20007  CERTIFIEDWITHDRAWN  \n",
       "3                N              NJ                 7302           WITHDRAWN  \n",
       "4                N              NY                10036  CERTIFIEDWITHDRAWN  \n",
       "\n",
       "[5 rows x 27 columns]"
      ]
     },
     "execution_count": 27,
     "metadata": {},
     "output_type": "execute_result"
    }
   ],
   "source": [
    "h1b_data.head()"
   ]
  },
  {
   "cell_type": "code",
   "execution_count": 28,
   "metadata": {},
   "outputs": [
    {
     "data": {
      "text/plain": [
       "CASE_SUBMITTED_DAY          31\n",
       "CASE_SUBMITTED_MONTH        12\n",
       "CASE_SUBMITTED_YEAR          7\n",
       "DECISION_DAY                31\n",
       "DECISION_MONTH               9\n",
       "DECISION_YEAR                2\n",
       "VISA_CLASS                   4\n",
       "EMPLOYER_NAME            61103\n",
       "EMPLOYER_STATE              56\n",
       "EMPLOYER_COUNTRY             4\n",
       "SOC_NAME                    56\n",
       "NAICS_CODE                2030\n",
       "TOTAL_WORKERS               52\n",
       "FULL_TIME_POSITION           2\n",
       "PREVAILING_WAGE          21955\n",
       "PW_UNIT_OF_PAY               5\n",
       "PW_SOURCE                    5\n",
       "PW_SOURCE_YEAR              19\n",
       "PW_SOURCE_OTHER            236\n",
       "WAGE_RATE_OF_PAY_FROM    45729\n",
       "WAGE_RATE_OF_PAY_TO      13038\n",
       "WAGE_UNIT_OF_PAY             5\n",
       "H-1B_DEPENDENT               2\n",
       "WILLFUL_VIOLATOR             2\n",
       "WORKSITE_STATE              55\n",
       "WORKSITE_POSTAL_CODE     17894\n",
       "CASE_STATUS                  4\n",
       "dtype: int64"
      ]
     },
     "execution_count": 28,
     "metadata": {},
     "output_type": "execute_result"
    }
   ],
   "source": [
    "h1b_data.nunique()"
   ]
  },
  {
   "cell_type": "code",
   "execution_count": 29,
   "metadata": {},
   "outputs": [
    {
     "data": {
      "text/plain": [
       "array(['CERTIFIEDWITHDRAWN', 'WITHDRAWN', 'CERTIFIED', 'DENIED'],\n",
       "      dtype=object)"
      ]
     },
     "execution_count": 29,
     "metadata": {},
     "output_type": "execute_result"
    }
   ],
   "source": [
    "h1b_data.CASE_STATUS.unique()"
   ]
  },
  {
   "cell_type": "code",
   "execution_count": 30,
   "metadata": {},
   "outputs": [
    {
     "data": {
      "image/png": "[encoded data removed]",
      "text/plain": [
       "<Figure size 432x288 with 1 Axes>"
      ]
     },
     "metadata": {
      "needs_background": "light"
     },
     "output_type": "display_data"
    }
   ],
   "source": [
    "plt.figure()\n",
    "sns.violinplot(x=\"CASE_STATUS\", \n",
    "               y=h1b_data.WAGE_RATE_OF_PAY_FROM, \n",
    "               data=h1b_data)\n",
    "plt.xticks(rotation='vertical')\n",
    "plt.xlabel('CASE_STATUS', fontsize=12)\n",
    "plt.ylabel('Wages', fontsize=12)\n",
    "plt.title(\"Wage distribution per Categories\")\n",
    "plt.ylim((0, 200000))\n",
    "plt.show()"
   ]
  },
  {
   "cell_type": "code",
   "execution_count": 61,
   "metadata": {},
   "outputs": [],
   "source": [
    "h1b_data['submitted_date'] = pd.to_datetime((\n",
    "    h1b_data.CASE_SUBMITTED_YEAR*10000+\n",
    "    h1b_data.CASE_SUBMITTED_MONTH*100+\n",
    "    h1b_data.CASE_SUBMITTED_DAY).apply(str),\n",
    "    format='%Y%m%d')\n",
    "\n",
    "h1b_data['decision_date'] = pd.to_datetime((\n",
    "    h1b_data.DECISION_YEAR*10000+\n",
    "    h1b_data.DECISION_MONTH*100+\n",
    "    h1b_data.DECISION_DAY).apply(str),\n",
    "    format='%Y%m%d')\n",
    "\n",
    "h1b_data['time_diff'] = (h1b_data['decision_date'] - \n",
    "                         h1b_data['submitted_date']).dt.days"
   ]
  },
  {
   "cell_type": "code",
   "execution_count": 58,
   "metadata": {},
   "outputs": [],
   "source": [
    "# Only looking at Denied and Certified categories\n",
    "selected = h1b_data[h1b_data.CASE_STATUS.apply(lambda x: \n",
    "                                    x in ['CERTIFIED', 'DENIED'])]"
   ]
  },
  {
   "cell_type": "code",
   "execution_count": 62,
   "metadata": {
    "scrolled": true
   },
   "outputs": [
    {
     "data": {
      "image/png": "[encoded data removed]",
      "text/plain": [
       "<Figure size 432x288 with 1 Axes>"
      ]
     },
     "metadata": {
      "needs_background": "light"
     },
     "output_type": "display_data"
    }
   ],
   "source": [
    "plt.figure()\n",
    "sns.violinplot(x=\"CASE_STATUS\", \n",
    "               y=selected.time_diff, \n",
    "               data=selected)\n",
    "plt.xticks(rotation='vertical')\n",
    "plt.xlabel('CASE_STATUS', fontsize=12)\n",
    "plt.ylabel('DAYS TO MAKE DECISION', fontsize=12)\n",
    "plt.title(\"days to make decision distribution\")\n",
    "plt.show()"
   ]
  },
  {
   "cell_type": "code",
   "execution_count": null,
   "metadata": {},
   "outputs": [],
   "source": []
  }
 ],
 "metadata": {
  "kernelspec": {
   "display_name": "Python 3",
   "language": "python",
   "name": "python3"
  },
  "language_info": {
   "codemirror_mode": {
    "name": "ipython",
    "version": 3
   },
   "file_extension": ".py",
   "mimetype": "text/x-python",
   "name": "python",
   "nbconvert_exporter": "python",
   "pygments_lexer": "ipython3",
   "version": "3.6.6"
  }
 },
 "nbformat": 4,
 "nbformat_minor": 2
}
